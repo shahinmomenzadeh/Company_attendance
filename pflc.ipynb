{
  "nbformat": 4,
  "nbformat_minor": 0,
  "metadata": {
    "colab": {
      "provenance": [],
      "authorship_tag": "ABX9TyPd4QtG2nUIOpTSz777zLUw",
      "include_colab_link": true
    },
    "kernelspec": {
      "name": "python3",
      "display_name": "Python 3"
    },
    "language_info": {
      "name": "python"
    }
  },
  "cells": [
    {
      "cell_type": "markdown",
      "metadata": {
        "id": "view-in-github",
        "colab_type": "text"
      },
      "source": [
        "<a href=\"https://colab.research.google.com/github/shahinmomenzadeh/Company_attendance/blob/master/pflc.ipynb\" target=\"_parent\"><img src=\"https://colab.research.google.com/assets/colab-badge.svg\" alt=\"Open In Colab\"/></a>"
      ]
    },
    {
      "cell_type": "code",
      "source": [
        "!mkdir /content/data"
      ],
      "metadata": {
        "id": "VYXKiqFj1xWN"
      },
      "execution_count": 3,
      "outputs": []
    },
    {
      "cell_type": "code",
      "source": [
        "!wget -O /content/data/protein_links.txt \"https://stringdb-static.org/download/protein.links.detailed.v11.5/9606.protein.links.detailed.v11.5.txt.gz\"\n",
        "!gzip -d /content/data/protein_links.txt"
      ],
      "metadata": {
        "colab": {
          "base_uri": "https://localhost:8080/"
        },
        "id": "sMG72FsX0yhw",
        "outputId": "355c8c69-22ec-431f-e3b7-0a31cc73c2b1"
      },
      "execution_count": 4,
      "outputs": [
        {
          "output_type": "stream",
          "name": "stdout",
          "text": [
            "--2023-06-04 09:57:41--  https://stringdb-static.org/download/protein.links.detailed.v11.5/9606.protein.links.detailed.v11.5.txt.gz\n",
            "Resolving stringdb-static.org (stringdb-static.org)... 151.106.34.104\n",
            "Connecting to stringdb-static.org (stringdb-static.org)|151.106.34.104|:443... connected.\n",
            "HTTP request sent, awaiting response... 200 OK\n",
            "Length: 115547735 (110M) [application/octet-stream]\n",
            "Saving to: ‘/content/data/protein_links.txt’\n",
            "\n",
            "/content/data/prote 100%[===================>] 110.19M  15.6MB/s    in 7.5s    \n",
            "\n",
            "2023-06-04 09:57:49 (14.8 MB/s) - ‘/content/data/protein_links.txt’ saved [115547735/115547735]\n",
            "\n",
            "gzip: /content/data/protein_links.txt: unknown suffix -- ignored\n"
          ]
        }
      ]
    },
    {
      "cell_type": "code",
      "source": [
        "!wget -O /content/data/protein_links.txt.gz \"https://stringdb-static.org/download/protein.links.detailed.v11.5/9606.protein.links.detailed.v11.5.txt.gz\"\n",
        "!gzip -d /content/data/protein_links.txt.gz\n",
        "dataset = pd.read_csv(\"/content/data/protein_links.txt\", header=None, sep=\" \")"
      ],
      "metadata": {
        "colab": {
          "base_uri": "https://localhost:8080/"
        },
        "id": "kE0fMkHu2Zwp",
        "outputId": "d2f32cf6-60e9-4138-daea-1b3feaeef636"
      },
      "execution_count": 6,
      "outputs": [
        {
          "output_type": "stream",
          "name": "stdout",
          "text": [
            "--2023-06-04 10:00:17--  https://stringdb-static.org/download/protein.links.detailed.v11.5/9606.protein.links.detailed.v11.5.txt.gz\n",
            "Resolving stringdb-static.org (stringdb-static.org)... 151.106.34.104\n",
            "Connecting to stringdb-static.org (stringdb-static.org)|151.106.34.104|:443... connected.\n",
            "HTTP request sent, awaiting response... 200 OK\n",
            "Length: 115547735 (110M) [application/octet-stream]\n",
            "Saving to: ‘/content/data/protein_links.txt.gz’\n",
            "\n",
            "/content/data/prote 100%[===================>] 110.19M  15.6MB/s    in 7.5s    \n",
            "\n",
            "2023-06-04 10:00:25 (14.7 MB/s) - ‘/content/data/protein_links.txt.gz’ saved [115547735/115547735]\n",
            "\n",
            "gzip: /content/data/protein_links.txt already exists; do you wish to overwrite (y or n)? Y\n"
          ]
        },
        {
          "output_type": "stream",
          "name": "stderr",
          "text": [
            "<ipython-input-6-e9084f014579>:3: DtypeWarning: Columns (2,3,4,5,6,7,8,9) have mixed types. Specify dtype option on import or set low_memory=False.\n",
            "  dataset = pd.read_csv(\"/content/data/protein_links.txt\", header=None, sep=\" \")\n"
          ]
        }
      ]
    },
    {
      "cell_type": "code",
      "execution_count": null,
      "metadata": {
        "id": "OD_dxvukKYTr"
      },
      "outputs": [],
      "source": [
        "import pandas as pd\n",
        "import networkx as nx\n",
        "\n",
        "# بارگیری دیتاست STRING\n",
        "dataset = pd.read_csv(\"/content/data/protein_links.txt\", sep=\" \")\n",
        "\n",
        "# فیلتر کردن ارتباطات با امتیاز بالا\n",
        "df = dataset[dataset.combined_score >= 700]\n",
        "\n",
        "# ساخت یک گراف از دیتاست STRING\n",
        "G = nx.DiGraph()\n",
        "for _, r in df.iterrows():\n",
        "    G.add_node(r['protein1'], label=r['protein1'])\n",
        "    G.add_node(r['protein2'], label=r['protein2'])\n",
        "    G.add_edge(r['protein1'], r['protein2'], weight=r['combined_score'])"
      ]
    },
    {
      "cell_type": "code",
      "source": [
        "import numpy as np\n",
        "# تبدیل گراف به گراف جهت‌دار\n",
        "G = G.to_directed()\n",
        "\n",
        "# محاسبه ماتریس لاپلاسی جهت‌دار\n",
        "L = nx.directed_laplacian_matrix(G)\n",
        "L = np.asarray(L)"
      ],
      "metadata": {
        "id": "x1VpjiLWKapT"
      },
      "execution_count": 3,
      "outputs": []
    },
    {
      "cell_type": "code",
      "source": [
        "from numpy.linalg import eig\n",
        "\n",
        "# محاسبه امتیازهای ویژه و بردارهای ویژه برای ماتریس لاپلاسی شبکه\n",
        "eigenvalues, eigenvectors = eig(L)\n",
        "\n",
        "# مرتب سازی امتیازهای ویژه به ترتیب صعودی\n",
        "idx = eigenvalues.argsort()[::-1]\n",
        "eigenvalues = eigenvalues[idx]\n",
        "eigenvectors = eigenvectors[:, idx]\n",
        "\n",
        "# محاسبه امتیاز PFLC برای هر گره\n",
        "PFLC = np.sum(np.abs(eigenvectors), axis=1)"
      ],
      "metadata": {
        "id": "0W-fa4tj6sVa"
      },
      "execution_count": null,
      "outputs": []
    },
    {
      "cell_type": "code",
      "source": [
        "from sklearn.cluster import KMeans\n",
        "\n",
        "# تعداد خوشه‌ها را مشخص کنید\n",
        "n_clusters = 2\n",
        "\n",
        "# اعمال الگوریتم خوشه‌بندی K-means بر روی امتیازهای PFLC\n",
        "kmeans = KMeans(n_clusters=n_clusters, random_state=0).fit(PFLC.reshape(-1, 1))\n",
        "\n",
        "# شناسایی گروه‌های مرکزی بالا\n",
        "high_central_nodes = np.where(kmeans.labels__ == kmeans.labels_.max())[0]"
      ],
      "metadata": {
        "id": "w9IYmRCeBgDo"
      },
      "execution_count": null,
      "outputs": []
    }
  ]
}